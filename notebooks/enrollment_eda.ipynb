{
 "cells": [
  {
   "cell_type": "code",
   "execution_count": 33,
   "id": "97769510-8c49-4c72-ad01-9883363f258f",
   "metadata": {},
   "outputs": [],
   "source": [
    "import pandas as pd\n",
    "import numpy as np\n",
    "import matplotlib.pyplot as plt\n",
    "import seaborn as sns\n",
    "import codecs"
   ]
  },
  {
   "cell_type": "markdown",
   "id": "a912c5a9-595f-423b-b898-32c08bf64b1b",
   "metadata": {},
   "source": [
    "enrollment = pd.read_csv(r'C:\\DA12\\capstone\\capstone-da12\\data\\metro school enrollment data\\school enrollment data\\MNPS Enrollment Data 011322.xls')\n",
    "enrollment.head()\n"
   ]
  },
  {
   "cell_type": "markdown",
   "id": "316b1ef5-ed67-455f-8a00-1f54c6c0c918",
   "metadata": {},
   "source": [
    ", low_memory=False"
   ]
  },
  {
   "cell_type": "markdown",
   "id": "04ebd0b5-f87a-45a0-afb4-a414509b930b",
   "metadata": {},
   "source": [
    "with codecs.open('C:\\DA12\\capstone\\capstone-da12\\data\\metro school enrollment data\\school enrollment data\\MNPS Enrollment Data 011322.xls', 'r', encoding='ANSI') as f:\n",
    "    df = pd.read_csv(f)"
   ]
  },
  {
   "cell_type": "code",
   "execution_count": null,
   "id": "80ddd0eb-6783-4a97-984d-cf1f90c611e0",
   "metadata": {},
   "outputs": [],
   "source": [
    "# pivot to something with police data?????? or just use excel for this data."
   ]
  }
 ],
 "metadata": {
  "kernelspec": {
   "display_name": "Python 3 (ipykernel)",
   "language": "python",
   "name": "python3"
  },
  "language_info": {
   "codemirror_mode": {
    "name": "ipython",
    "version": 3
   },
   "file_extension": ".py",
   "mimetype": "text/x-python",
   "name": "python",
   "nbconvert_exporter": "python",
   "pygments_lexer": "ipython3",
   "version": "3.11.7"
  }
 },
 "nbformat": 4,
 "nbformat_minor": 5
}
